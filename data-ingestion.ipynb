{
 "cells": [
  {
   "cell_type": "code",
   "execution_count": 0,
   "metadata": {
    "application/vnd.databricks.v1+cell": {
     "cellMetadata": {
      "byteLimit": 2048000,
      "rowLimit": 10000
     },
     "inputWidgets": {},
     "nuid": "3b3e4770-b9b0-49f2-99a9-7b28c99bee33",
     "showTitle": true,
     "tableResultSettingsMap": {},
     "title": "Install dataset to get dataset from huggingface"
    }
   },
   "outputs": [],
   "source": [
    "%pip install datasets"
   ]
  },
  {
   "cell_type": "code",
   "execution_count": 0,
   "metadata": {
    "application/vnd.databricks.v1+cell": {
     "cellMetadata": {
      "byteLimit": 2048000,
      "rowLimit": 10000
     },
     "inputWidgets": {},
     "nuid": "ee8993db-83b0-41f3-8ce7-da139cc3e2ac",
     "showTitle": true,
     "tableResultSettingsMap": {},
     "title": "Restart python kernel to use latest libraries"
    }
   },
   "outputs": [],
   "source": [
    "dbutils.library.restartPython()"
   ]
  },
  {
   "cell_type": "code",
   "execution_count": 0,
   "metadata": {
    "application/vnd.databricks.v1+cell": {
     "cellMetadata": {
      "byteLimit": 2048000,
      "rowLimit": 10000
     },
     "inputWidgets": {},
     "nuid": "d66770d2-42f2-4d50-8b94-791ade7c977f",
     "showTitle": true,
     "tableResultSettingsMap": {},
     "title": "Fetch data from hugging face"
    }
   },
   "outputs": [],
   "source": [
    "from datasets import load_dataset\n",
    "\n",
    "# Load the dataset from Hugging Face\n",
    "dataset = load_dataset(\"ChicagoHAI/CaseSumm\")\n",
    "\n",
    "# Convert the 'train' split to Pandas\n",
    "df = dataset['train'].to_pandas()\n",
    "\n",
    "# Select required columns and rename\n",
    "df = df[['opinion', 'syllabus']].rename(columns={\n",
    "    'opinion': 'text',\n",
    "    'syllabus': 'summary'\n",
    "})\n"
   ]
  },
  {
   "cell_type": "code",
   "execution_count": 0,
   "metadata": {
    "application/vnd.databricks.v1+cell": {
     "cellMetadata": {
      "byteLimit": 2048000,
      "rowLimit": 10000
     },
     "inputWidgets": {},
     "nuid": "88d924d2-ee3d-4538-8a91-c144d631de19",
     "showTitle": true,
     "tableResultSettingsMap": {},
     "title": "Convert Pandas → Spark DataFrame"
    }
   },
   "outputs": [],
   "source": [
    "spark_df = spark.createDataFrame(df)"
   ]
  },
  {
   "cell_type": "code",
   "execution_count": 0,
   "metadata": {
    "application/vnd.databricks.v1+cell": {
     "cellMetadata": {
      "byteLimit": 2048000,
      "rowLimit": 10000
     },
     "inputWidgets": {},
     "nuid": "e0ae2062-240a-4c84-bb6c-4626bbeb463a",
     "showTitle": true,
     "tableResultSettingsMap": {},
     "title": "Save to Unity Catalog Delta Table"
    }
   },
   "outputs": [],
   "source": [
    "spark_df.write.format(\"delta\") \\\n",
    "    .mode(\"overwrite\") \\\n",
    "    .saveAsTable(\"legal.bronze.casesumm\")"
   ]
  },
  {
   "cell_type": "code",
   "execution_count": 0,
   "metadata": {
    "application/vnd.databricks.v1+cell": {
     "cellMetadata": {
      "byteLimit": 2048000,
      "implicitDf": true,
      "rowLimit": 10000
     },
     "inputWidgets": {},
     "nuid": "cdd4208e-9ab4-48cf-b4fa-8584d8902b7a",
     "showTitle": false,
     "tableResultSettingsMap": {},
     "title": ""
    }
   },
   "outputs": [],
   "source": [
    "%sql\n",
    "select * from legal.bronze.casesumm limit 2"
   ]
  }
 ],
 "metadata": {
  "application/vnd.databricks.v1+notebook": {
   "computePreferences": null,
   "dashboards": [],
   "environmentMetadata": {
    "base_environment": "",
    "environment_version": "2"
   },
   "inputWidgetPreferences": null,
   "language": "python",
   "notebookMetadata": {
    "mostRecentlyExecutedCommandWithImplicitDF": {
     "commandId": 5602523454914439,
     "dataframes": [
      "_sqldf"
     ]
    },
    "pythonIndentUnit": 4
   },
   "notebookName": "data-ingestion",
   "widgets": {}
  },
  "language_info": {
   "name": "python"
  }
 },
 "nbformat": 4,
 "nbformat_minor": 0
}
